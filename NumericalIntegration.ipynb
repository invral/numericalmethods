{
 "cells": [
  {
   "cell_type": "code",
   "execution_count": null,
   "metadata": {
    "pycharm": {
     "is_executing": true
    },
    "scrolled": true
   },
   "outputs": [],
   "source": [
    "import numpy as np\n",
    "import matplotlib.pyplot as plt\n",
    "from typing import Callable\n",
    "import scipy\n",
    "import numba"
   ]
  },
  {
   "cell_type": "code",
   "execution_count": 39,
   "metadata": {
    "pycharm": {
     "is_executing": true
    }
   },
   "outputs": [],
   "source": [
    "@np.vectorize\n",
    "# @numba.jit\n",
    "def NumericalInt(f: Callable[[float], float], x:float , h: float = 0.01, order: float = 2, name: str = 'Gauss'):\n",
    "    if name == 'Gauss':\n",
    "        if order == 2:\n",
    "            x1 = (2 * x + h)/2 - h/(2 * np.sqrt(3))\n",
    "            x2 = (2 * x + h)/2 + h/(2 * np.sqrt(3))\n",
    "            res = (h / 2)*(f(x1) + f(x2))\n",
    "            return res\n",
    "        elif order == 3:  \n",
    "            x1 = x * (1 + np.sqrt(3/5)) / 2 + (x + h) * (1 - np.sqrt(3 / 5)) / 2\n",
    "            x2 = (2 * x + h) / 2\n",
    "            x3 = x * (1 - np.sqrt(3 / 5)) / 2 + (x + h) * (1 + np.sqrt(3 / 5)) / 2\n",
    "            res = (h / 2) * ((5 / 9) * f(x1) + (8 / 9) * f(x2) + (5 / 9) * f(x3))\n",
    "            return res       \n",
    "    if name == 'Simpson':\n",
    "        res = (h / 6) * (f(x) + 4 * f(x + h / 2) + f(x + h))\n",
    "        return res\n",
    "    if name == 'Square':\n",
    "        res = f(x + h / 2) * h\n",
    "        return res\n",
    "    if name == 'Trapeziod':\n",
    "        res = (h / 2) * (f(x) + f(x + h))\n",
    "        return res\n",
    "                  \n",
    "# @numba.jit \n",
    "@np.vectorize\n",
    "def NumericalIntegral(f: Callable[[float], float], a:float, b: float, h: float = 0.01, order: float = 2, name: str = 'Simpson'):\n",
    "    x = a\n",
    "    res = 0\n",
    "    while x<=b:\n",
    "        if (h>=0.1):\n",
    "            if x+h>=b:\n",
    "                return res\n",
    "        res+= NumericalInt(f, x, h, order, name)\n",
    "        x+=h\n",
    "    return res\n",
    "\n",
    "@np.vectorize\n",
    "def runge(f: Callable[[float], float], a:float, b: float, h: float = 0.01, order: float = 2, name = 'Simpson'):\n",
    "    calc_sol1 = NumericalIntegral(f, a, b, h, order, name)\n",
    "    calc_sol2 = NumericalIntegral(f, a, b, h/2, order, name)\n",
    "    if name == 'Square':\n",
    "        res = calc_sol2 + (calc_sol2 - calc_sol1) / 3\n",
    "    elif name == 'Simpson':\n",
    "        res = calc_sol2 + (calc_sol2 - calc_sol1) / 15\n",
    "    return res\n",
    "        \n",
    "    \n",
    "        \n",
    "        "
   ]
  },
  {
   "cell_type": "code",
   "execution_count": 12,
   "metadata": {
    "pycharm": {
     "is_executing": true
    }
   },
   "outputs": [],
   "source": [
    "f = lambda x: (x + 1) * np.cos(x)\n"
   ]
  },
  {
   "cell_type": "code",
   "execution_count": 27,
   "metadata": {
    "pycharm": {
     "is_executing": true
    }
   },
   "outputs": [],
   "source": [
    "def get_error(f: Callable[[float], float], a:float, b: float, order = 2, rungeB = False, name = 'Square'):\n",
    "    hlog = []\n",
    "    deltalog = []\n",
    "    true_sol = 2 * np.sin(1)\n",
    "    for s in range(-3, 0, 1):\n",
    "        h = 10 ** s\n",
    "        if rungeB == True:\n",
    "            calc_sol = runge(f, a, b, h, order, name = name)\n",
    "        else:\n",
    "            calc_sol = NumericalIntegral(f, a, b, h, order, name)\n",
    "        true_sol = 2 * np.sin(1)\n",
    "        delta = abs(calc_sol-true_sol)\n",
    "        deltalog.append(delta)\n",
    "        hlog.append(h)\n",
    "        \n",
    "    return hlog, deltalog"
   ]
  },
  {
   "cell_type": "code",
   "execution_count": 40,
   "metadata": {
    "pycharm": {
     "is_executing": true
    },
    "scrolled": true
   },
   "outputs": [
    {
     "data": {
      "image/png": "[encoded data removed]",
      "text/plain": [
       "<Figure size 432x288 with 1 Axes>"
      ]
     },
     "metadata": {
      "needs_background": "light"
     },
     "output_type": "display_data"
    },
    {
     "data": {
      "text/plain": [
       "<Figure size 36000x36000 with 0 Axes>"
      ]
     },
     "metadata": {},
     "output_type": "display_data"
    }
   ],
   "source": [
    "hlogSimpRun, deltalogSimpRun = get_error(f, a = -1, b = 1, rungeB = True, name = \"Simpson\")\n",
    "hlogSimp, deltalogSimp = get_error(f, a = -1, b = 1, rungeB = False, name = \"Simpson\")\n",
    "\n",
    "plt.plot(hlogSimpRun, deltalogSimpRun, color='red', label='Runge')\n",
    "plt.plot(hlogSimpRun, deltalogSimp, color='blue', label='Simpson')\n",
    "plt.legend()\n",
    "plt.grid()\n",
    "plt.figure(figsize=(500, 500))\n",
    "plt.show()\n",
    "\n",
    "# plt.plot(X, abs(calc_sol - true_sol), color='red', label='разность')\n",
    "# plt.legend()\n",
    "# plt.grid()\n",
    "# plt.figure(figsize=(500, 500))\n",
    "# plt.show()"
   ]
  },
  {
   "cell_type": "code",
   "execution_count": null,
   "metadata": {
    "pycharm": {
     "is_executing": true
    }
   },
   "outputs": [],
   "source": [
    "hlogSquareRun, deltalogSquareRun = get_error(f, a = -1, b = 1, rungeB = True, name = \"Square\")\n",
    "hlogSquare, deltalogSquare = get_error(f, a = -1, b = 1, rungeB = False, name = \"Square\")\n",
    "\n",
    "plt.plot(hlogSquareRun, deltalogSquareRun, color='red', label='Runge')\n",
    "plt.plot(hlogSquareRun, deltalogSquare, color='blue', label='Square')\n",
    "plt.legend()\n",
    "plt.grid()\n",
    "plt.figure(figsize=(500, 500))\n",
    "plt.show()"
   ]
  },
  {
   "cell_type": "code",
   "execution_count": null,
   "metadata": {
    "pycharm": {
     "is_executing": true
    }
   },
   "outputs": [],
   "source": []
  },
  {
   "cell_type": "code",
   "execution_count": null,
   "metadata": {
    "pycharm": {
     "is_executing": true
    }
   },
   "outputs": [],
   "source": [
    "hlogSquareRun, deltalogSquareRun = get_error(f, a = -1, b = 1, name = \"rungeSquare\")\n",
    "hlogSquare, deltalogSquare = get_error(f, a = -1, b = 1, name = \"Square\")\n",
    "\n",
    "plt.plot(hlogSquareRun, deltalogSquareRun, color='red', label='Runge')\n",
    "plt.plot(hlogSquareRun, deltalogSquare, color='blue', label='Square')\n",
    "plt.legend()\n",
    "plt.grid()\n",
    "plt.figure(figsize=(500, 500))\n",
    "plt.show()\n",
    "\n",
    "# plt.plot(X, abs(calc_sol - true_sol), color='red', label='разность')\n",
    "# plt.legend()\n",
    "# plt.grid()\n",
    "# plt.figure(figsize=(500, 500))\n",
    "# plt.show()"
   ]
  },
  {
   "cell_type": "code",
   "execution_count": null,
   "metadata": {
    "pycharm": {
     "is_executing": true
    }
   },
   "outputs": [],
   "source": [
    "tangensRunge = (deltalogSimpRun[4] - deltalogSimpRun[3]) / (hlogSimp[4] - hlogSimp[3])\n",
    "tangens = (deltalogSimp[4] - deltalogSimp[3]) / (hlogSimp[4] - hlogSimp[3])\n",
    "tangensRunge, tangens"
   ]
  },
  {
   "cell_type": "code",
   "execution_count": null,
   "metadata": {
    "pycharm": {
     "is_executing": true
    }
   },
   "outputs": [],
   "source": [
    "len(deltalogSimp)"
   ]
  },
  {
   "cell_type": "code",
   "execution_count": null,
   "metadata": {
    "pycharm": {
     "is_executing": true
    },
    "scrolled": true
   },
   "outputs": [],
   "source": [
    "for x in hlogSimp:\n",
    "    print(x)"
   ]
  },
  {
   "cell_type": "code",
   "execution_count": null,
   "metadata": {
    "pycharm": {
     "is_executing": true
    }
   },
   "outputs": [],
   "source": [
    "# for x in deltalogSimpRun:\n",
    "#     print(\"Runge = \",x)\n",
    "# #     print(\"Simpson = \",y)\n",
    "# print(\"\\n\")\n",
    "# for x in deltalogSimp:\n",
    "#     print(\"Simpson = \",x)"
   ]
  },
  {
   "cell_type": "code",
   "execution_count": 15,
   "metadata": {
    "pycharm": {
     "is_executing": true
    }
   },
   "outputs": [],
   "source": [
    "true_sol = 2 * np.sin(1)"
   ]
  },
  {
   "cell_type": "code",
   "execution_count": 16,
   "metadata": {},
   "outputs": [
    {
     "data": {
      "text/plain": [
       "1.682941969615793"
      ]
     },
     "execution_count": 16,
     "metadata": {},
     "output_type": "execute_result"
    }
   ],
   "source": [
    "true_sol"
   ]
  },
  {
   "cell_type": "code",
   "execution_count": 23,
   "metadata": {},
   "outputs": [],
   "source": [
    "calc_sol = NumericalIntegral(f, a= -1, b = 1, h = 0.1 , order = 2, name =\"Simpson\")"
   ]
  },
  {
   "cell_type": "code",
   "execution_count": 24,
   "metadata": {},
   "outputs": [
    {
     "data": {
      "text/plain": [
       "array(1.68294203)"
      ]
     },
     "execution_count": 24,
     "metadata": {},
     "output_type": "execute_result"
    }
   ],
   "source": [
    "calc_sol"
   ]
  },
  {
   "cell_type": "code",
   "execution_count": 36,
   "metadata": {},
   "outputs": [
    {
     "data": {
      "text/plain": [
       "array(1.67207925)"
      ]
     },
     "execution_count": 36,
     "metadata": {},
     "output_type": "execute_result"
    }
   ],
   "source": [
    "calc_sol = NumericalIntegral(f, a= -1, b = 1, h = 0.01 , order = 2, name =\"Simpson\")\n",
    "calc_sol"
   ]
  },
  {
   "cell_type": "code",
   "execution_count": null,
   "metadata": {},
   "outputs": [],
   "source": []
  }
 ],
 "metadata": {
  "kernelspec": {
   "display_name": "Python 3",
   "language": "python",
   "name": "python3"
  },
  "language_info": {
   "codemirror_mode": {
    "name": "ipython",
    "version": 3
   },
   "file_extension": ".py",
   "mimetype": "text/x-python",
   "name": "python",
   "nbconvert_exporter": "python",
   "pygments_lexer": "ipython3",
   "version": "3.6.8"
  }
 },
 "nbformat": 4,
 "nbformat_minor": 1
}