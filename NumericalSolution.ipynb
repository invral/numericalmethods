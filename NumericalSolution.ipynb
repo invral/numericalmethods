{
 "cells": [
  {
   "cell_type": "markdown",
   "metadata": {
    "collapsed": true
   },
   "source": [
    "Запишем нашу функцию $y''(x) + p(x)y' + q(x)y = f(x)$"
   ]
  },
  {
   "cell_type": "markdown",
   "metadata": {},
   "source": [
    "$y'(0) = \\frac{4}{3} $\n",
    "<br/>\n",
    "y(0) = 0\n",
    "<br/>\n",
    "$y_0 = sin(sh(x)) + \\frac{x}{3}$"
   ]
  },
  {
   "cell_type": "markdown",
   "metadata": {},
   "source": [
    "$p(x) = - th(x)$\n",
    "<br/>\n",
    "$q(x) = ch^2(x)$\n",
    "<br/>\n",
    "$ f(x) = \\frac{xch^2(x)-th(x)}{3}$"
   ]
  },
  {
   "cell_type": "markdown",
   "metadata": {},
   "source": [
    "---"
   ]
  },
  {
   "cell_type": "markdown",
   "metadata": {},
   "source": [
    "Перепишем ДУ в виде $y''(x) + p(x)y' + q(x)y = f(x)$\n",
    "\n",
    "$y''(x)=-p(x)y'-q(x)y+f(x)$"
   ]
  },
  {
   "cell_type": "markdown",
   "metadata": {},
   "source": [
    "---"
   ]
  },
  {
   "cell_type": "code",
   "execution_count": 1,
   "metadata": {},
   "outputs": [],
   "source": [
    "import numpy as np \n",
    "import matplotlib.pyplot as plt\n",
    "import scipy\n",
    "import math"
   ]
  },
  {
   "cell_type": "code",
   "execution_count": 2,
   "metadata": {},
   "outputs": [],
   "source": [
    "def p(x):\n",
    "    return (-1) * np.tanh(x)\n",
    "def q(x):\n",
    "    return np.cosh(x) ** 2\n",
    "def f(x):\n",
    "    return ((np.cosh(x) ** 2) * x - np.tanh(x)) / 3\n",
    "def secDerriative(x, y, z):\n",
    "    return (-1) * p(x) *  z + (-1) * q(x) * y + f(x) "
   ]
  },
  {
   "cell_type": "code",
   "execution_count": 3,
   "metadata": {},
   "outputs": [],
   "source": [
    "def Euler(n, h, x = 0, y = 0 , yDerriative = 4/3):\n",
    "    for i in range(n):\n",
    "        yDerriative += h * secDerriative(x, y, yDerriative)\n",
    "        y += h * yDerriative\n",
    "        x += h\n",
    "    return y, yDerriative"
   ]
  },
  {
   "cell_type": "code",
   "execution_count": 4,
   "metadata": {},
   "outputs": [],
   "source": [
    "def RungeCute(n, h, x, y, yDerriative):\n",
    "    for i in range(n):\n",
    "        q1 = secDerriative(x, y, yDerriative)\n",
    "        k1 = yDerriative\n",
    "        \n",
    "        q2 = secDerriative(x + h/2, y + h * k1 / 2, yDerriative + h * q1 / 2)\n",
    "        k2 = yDerriative + q1 * h / 2\n",
    "        \n",
    "        q3 = secDerriative(x + h/2, y + h * k2 / 2, yDerriative + h * q2 / 2)\n",
    "        k3 = yDerriative + q2 * h / 2\n",
    "        \n",
    "        q4 = secDerriative(x + h, y + h * k3, yDerriative + h * q3)\n",
    "        k4 = yDerriative + q3 * h\n",
    "        \n",
    "        yDerriative += h * (q1 + 2*q2 + 2*q3 + q4) / 6\n",
    "        y += h * (k1 + 2*k2 + 2*k3 + k4) / 6\n",
    "        x += h\n",
    "        \n",
    "    return y, yDerriative"
   ]
  },
  {
   "cell_type": "code",
   "execution_count": 5,
   "metadata": {},
   "outputs": [],
   "source": [
    "def CorrRungeCute(n, h, x, y, yDerriative):\n",
    "    \n",
    "    ycalcSol1, ycalcSol1Derr  = RungeCute(n, h, x, y, yDerriative)\n",
    "    ycalcSol2, ycalcSol2Derr = RungeCute(n * 2, h / 2, x, y, yDerriative)\n",
    "    yres = ycalcSol2 + (ycalcSol2 - ycalcSol1) / 15\n",
    "    yresDerr = ycalcSol2Derr + (ycalcSol2Derr - ycalcSol1Derr) / 15\n",
    "    \n",
    "    return yres, yresDerr"
   ]
  },
  {
   "cell_type": "code",
   "execution_count": 6,
   "metadata": {},
   "outputs": [],
   "source": [
    "def Adams(n, h, x, y, yDerriative):\n",
    "    y1, yDerriative1 = RungeCute(1, h, x, y, yDerriative)\n",
    "    y2, yDerriative2 = RungeCute(2, h, x, y, yDerriative)\n",
    "\n",
    "    if n == 0:\n",
    "        return y, yDerriative\n",
    "    if n == 1:\n",
    "        return y1, yDerriative1\n",
    "    if n == 2:\n",
    "        return y2, yDerriative2\n",
    "\n",
    "    for i in range(n - 2):\n",
    "        q3 = 5 * secDerriative(x, y, yDerriative)\n",
    "        q2 = (-16) * secDerriative(x + h, y1, yDerriative1)\n",
    "        q1 = 23 * secDerriative(x + 2 * h, y2, yDerriative2)\n",
    "\n",
    "        k3 = 5 * yDerriative\n",
    "        k2 = (-16) * yDerriative1\n",
    "        k1 = 23 * yDerriative2\n",
    "\n",
    "        yDerriative = yDerriative1\n",
    "        yDerriative1 = yDerriative2\n",
    "        yDerriative2 += h * (q1 + q2 + q3) / 12\n",
    "\n",
    "        y = y1\n",
    "        y1 = y2\n",
    "        y2 += h * (k1 + k2 + k3) / 12\n",
    "\n",
    "        x += h\n",
    "    return y2, yDerriative2"
   ]
  },
  {
   "cell_type": "code",
   "execution_count": 7,
   "metadata": {},
   "outputs": [],
   "source": [
    "def Solution(x):\n",
    "    return np.sin(np.sinh(x)) + (x / 3)"
   ]
  },
  {
   "cell_type": "code",
   "execution_count": 8,
   "metadata": {},
   "outputs": [],
   "source": [
    "x0 = 0\n",
    "y0 = 0\n",
    "yDerriative0 = 4/3\n",
    "xBegin = 0\n",
    "xEnd = 1\n",
    "\n",
    "h = 0.05"
   ]
  },
  {
   "cell_type": "code",
   "execution_count": 9,
   "metadata": {},
   "outputs": [],
   "source": [
    "# X = [x0 + i/1000 for i in range(1000)]\n",
    "X = [x0 + i * h for i in range(21)]\n",
    "Solutions = [Solution(x) for x in X]"
   ]
  },
  {
   "cell_type": "code",
   "execution_count": 10,
   "metadata": {
    "scrolled": false
   },
   "outputs": [
    {
     "data": {
      "image/png": "[encoded data removed]",
      "text/plain": [
       "<Figure size 432x288 with 1 Axes>"
      ]
     },
     "metadata": {
      "needs_background": "light"
     },
     "output_type": "display_data"
    }
   ],
   "source": [
    "X = [x0 + i * h for i in range(21)]\n",
    "Solutions = [Solution(x) for x in X]\n",
    "plt.plot(X, Solutions, color=\"red\", label=\"Real solution\")\n",
    "\n",
    "X = [x0 + i * h for i in range(21)]\n",
    "EulerSolutions = []\n",
    "for i in range(21):\n",
    "    EulerSolution, yEulerDer = Euler(i, h, x0, y0, yDerriative0)\n",
    "    EulerSolutions.append(EulerSolution)\n",
    "plt.plot(X, EulerSolutions, linestyle=\"--\", color=\"black\", label=\"Euler method\")\n",
    "\n",
    "RungeSolutions = []\n",
    "for i in range(21):\n",
    "    yRunge, yRungeDer = RungeCute(i, h, x0, y0, yDerriative0)\n",
    "    RungeSolutions.append(yRunge)\n",
    "plt.plot(X, RungeSolutions, linestyle=\"--\", color=\"green\", label=\"Runge-Cutta method\")\n",
    "\n",
    "CorrRungeSol = []\n",
    "for i in range(21):\n",
    "    yRungeCorr, yRungeDerCorr = CorrRungeCute(i, h, x0, y0, yDerriative0)\n",
    "    CorrRungeSol.append(yRungeCorr)\n",
    "plt.plot(X, CorrRungeSol, linestyle=\"--\", color=\"purple\", label=\"Correction Runge-Cutta method\")\n",
    "\n",
    "\n",
    "#Ye = [abs(Y[i] - Yr[i]) for i in range(1000)]\n",
    "#plt.plot(X, Ye, label=\"Error\")\n",
    "\n",
    "plt.legend(loc=\"lower right\")\n",
    "plt.grid(True)"
   ]
  },
  {
   "cell_type": "code",
   "execution_count": 11,
   "metadata": {
    "scrolled": true
   },
   "outputs": [
    {
     "data": {
      "image/png": "[encoded data removed]",
      "text/plain": [
       "<Figure size 432x288 with 1 Axes>"
      ]
     },
     "metadata": {
      "needs_background": "light"
     },
     "output_type": "display_data"
    }
   ],
   "source": [
    "X = [x0 + i / 1000 for i in range(1000)]\n",
    "Solutions = [Solution(i) for i in X]\n",
    "plt.plot(X, Solutions, color=\"red\", label=\"Real solution\")\n",
    "\n",
    "X = [x0 + i * h for i in range(21)]\n",
    "AdamsScore = [] \n",
    "for i in range(21):\n",
    "    yAdams, yAdamsDer = Adams(i, h, x0, y0, yDerriative0)\n",
    "    AdamsScore.append(yAdams)\n",
    "plt.plot(X, AdamsScore, linestyle=\"--\", color=\"blue\", alpha=1, label=\"Adams method\")\n",
    "\n",
    "plt.legend(loc=\"lower right\")\n",
    "plt.grid(True)"
   ]
  },
  {
   "cell_type": "code",
   "execution_count": 295,
   "metadata": {},
   "outputs": [],
   "source": [
    "def error(method, x = 0, y = 0, yDerriative = 4/3):\n",
    "    hlog = []\n",
    "    methodlog = []\n",
    "    for n in range(20, 300, 50):\n",
    "        X = np.linspace(0,1,n+1)\n",
    "        h = 1/n\n",
    "        hlog.append(np.log(h))\n",
    "        deltas = []\n",
    "        for i in range(n):\n",
    "            y, yDer = method(i, h, x, y, yDerriative)\n",
    "            delta = abs(y - Solution(x + i * h))\n",
    "            deltas.append(delta)\n",
    "        maxdelta = np.max(deltas)\n",
    "        methodlog.append(np.log(maxdelta))\n",
    "    return hlog, methodlog\n",
    "            "
   ]
  },
  {
   "cell_type": "code",
   "execution_count": 29,
   "metadata": {},
   "outputs": [],
   "source": [
    "def logEr(method):\n",
    "    H = []\n",
    "    erY = []\n",
    "    for n in range(10, 300, 50):\n",
    "        h = (1 - 0) / n\n",
    "        X = np.linspace(0, 1, n + 1)\n",
    "        Y, Yder = method(n, h, x = x0 , y = y0 , yDerriative = yDerriative0)\n",
    "        tmp = abs(Y - Solution(X[-1]))\n",
    "#         print(tmp)\n",
    "        if tmp == 0.0:\n",
    "            erY.append(np.log(3.4416913763379853e-15))\n",
    "#             erY.append()\n",
    "#             erY.append((-34.13833574206902))\n",
    "        else:\n",
    "            erY.append(tmp)\n",
    "        H.append(np.log(h))\n",
    "    return H, erY"
   ]
  },
  {
   "cell_type": "code",
   "execution_count": 13,
   "metadata": {
    "scrolled": true
   },
   "outputs": [],
   "source": [
    "hlogE, methodlogE = logEr(Euler)"
   ]
  },
  {
   "cell_type": "code",
   "execution_count": 14,
   "metadata": {},
   "outputs": [
    {
     "name": "stderr",
     "output_type": "stream",
     "text": [
      "No handles with labels found to put in legend.\n"
     ]
    },
    {
     "data": {
      "image/png": "[encoded data removed]",
      "text/plain": [
       "<Figure size 432x288 with 1 Axes>"
      ]
     },
     "metadata": {
      "needs_background": "light"
     },
     "output_type": "display_data"
    }
   ],
   "source": [
    "plt.plot(hlogE, methodlogE, linestyle = \"--\", color=\"blue\", alpha=1, label=\"\")\n",
    "\n",
    "plt.legend(loc=\"lower right\")\n",
    "plt.grid(True)"
   ]
  },
  {
   "cell_type": "code",
   "execution_count": 24,
   "metadata": {},
   "outputs": [],
   "source": [
    "hlogR, methodlogR = logEr(RungeCute)"
   ]
  },
  {
   "cell_type": "code",
   "execution_count": 25,
   "metadata": {},
   "outputs": [
    {
     "data": {
      "text/plain": [
       "[3.6669236069819533e-07,\n",
       " 3.2297364782607474e-10,\n",
       " 2.87285750744104e-11,\n",
       " 6.426414955740256e-12,\n",
       " 2.1678214778830807e-12,\n",
       " 9.228173780684301e-13]"
      ]
     },
     "execution_count": 25,
     "metadata": {},
     "output_type": "execute_result"
    }
   ],
   "source": [
    "methodlogR"
   ]
  },
  {
   "cell_type": "code",
   "execution_count": 17,
   "metadata": {},
   "outputs": [
    {
     "data": {
      "image/png": "[encoded data removed]",
      "text/plain": [
       "<Figure size 432x288 with 1 Axes>"
      ]
     },
     "metadata": {
      "needs_background": "light"
     },
     "output_type": "display_data"
    }
   ],
   "source": [
    "plt.plot(hlogR, methodlogR, linestyle = \"--\", color=\"blue\", alpha=1, label=\"Runge Cutta\")\n",
    "\n",
    "plt.legend(loc=\"lower right\")\n",
    "plt.grid(True)"
   ]
  },
  {
   "cell_type": "code",
   "execution_count": 22,
   "metadata": {
    "scrolled": true
   },
   "outputs": [],
   "source": [
    "hlogCR, methodlogCR = logEr(CorrRungeCute)"
   ]
  },
  {
   "cell_type": "code",
   "execution_count": 23,
   "metadata": {
    "scrolled": true
   },
   "outputs": [
    {
     "data": {
      "text/plain": [
       "[2.499640716635554e-09,\n",
       " 1.13464793116691e-13,\n",
       " 5.551115123125783e-15,\n",
       " -33.30281336519195,\n",
       " 1.3322676295501878e-15,\n",
       " 6.661338147750939e-16]"
      ]
     },
     "execution_count": 23,
     "metadata": {},
     "output_type": "execute_result"
    }
   ],
   "source": [
    "methodlogCR"
   ]
  },
  {
   "cell_type": "code",
   "execution_count": 21,
   "metadata": {
    "scrolled": true
   },
   "outputs": [
    {
     "data": {
      "image/png": "[encoded data removed]",
      "text/plain": [
       "<Figure size 432x288 with 1 Axes>"
      ]
     },
     "metadata": {
      "needs_background": "light"
     },
     "output_type": "display_data"
    }
   ],
   "source": [
    "plt.plot(hlogCR, methodlogCR, linestyle = \"--\", color=\"blue\", alpha=1, label=\"Corr Runge\")\n",
    "\n",
    "plt.legend(loc=\"lower right\")\n",
    "plt.grid(True)"
   ]
  },
  {
   "cell_type": "code",
   "execution_count": 31,
   "metadata": {},
   "outputs": [],
   "source": [
    "hlogA, methodlogA = logEr(Adams)"
   ]
  },
  {
   "cell_type": "code",
   "execution_count": 32,
   "metadata": {},
   "outputs": [
    {
     "data": {
      "image/png": "[encoded data removed]",
      "text/plain": [
       "<Figure size 432x288 with 1 Axes>"
      ]
     },
     "metadata": {
      "needs_background": "light"
     },
     "output_type": "display_data"
    }
   ],
   "source": [
    "plt.plot(hlogA, methodlogA, linestyle = \"--\", color=\"blue\", alpha=1, label=\"беда\")\n",
    "\n",
    "plt.legend(loc=\"lower right\")\n",
    "plt.grid(True)"
   ]
  },
  {
   "cell_type": "code",
   "execution_count": 28,
   "metadata": {},
   "outputs": [
    {
     "data": {
      "text/plain": [
       "[0.0030588193563394483,\n",
       " 1.861529160906983e-05,\n",
       " 3.0897806237994985e-06,\n",
       " 1.0124388625243341e-06,\n",
       " 4.4973692592265024e-07,\n",
       " 2.3760442902087675e-07]"
      ]
     },
     "execution_count": 28,
     "metadata": {},
     "output_type": "execute_result"
    }
   ],
   "source": [
    "methodlogA"
   ]
  },
  {
   "cell_type": "code",
   "execution_count": null,
   "metadata": {},
   "outputs": [],
   "source": []
  }
 ],
 "metadata": {
  "kernelspec": {
   "display_name": "Python 3",
   "language": "python",
   "name": "python3"
  },
  "language_info": {
   "codemirror_mode": {
    "name": "ipython",
    "version": 3
   },
   "file_extension": ".py",
   "mimetype": "text/x-python",
   "name": "python",
   "nbconvert_exporter": "python",
   "pygments_lexer": "ipython3",
   "version": "3.6.8"
  }
 },
 "nbformat": 4,
 "nbformat_minor": 1
}