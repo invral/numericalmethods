{
 "cells": [
  {
   "cell_type": "code",
   "execution_count": 27,
   "metadata": {
    "pycharm": {
     "is_executing": true
    }
   },
   "outputs": [],
   "source": [
    "import numpy as np\n",
    "import matplotlib.pyplot as plt\n",
    "from typing import Callable\n",
    "import numba"
   ]
  },
  {
   "cell_type": "code",
   "execution_count": 28,
   "metadata": {
    "pycharm": {
     "is_executing": true
    }
   },
   "outputs": [],
   "source": [
    "@np.vectorize\n",
    "@numba.jit\n",
    "def NumericalDiff(f: Callable[[float], float], x: float, h: float = 0.01, order: float = 1, h_order: int = 2, type: str = 'central') -> float:\n",
    "    \"\"\"Возращает производную в точке\"\"\"\n",
    "    if order == 1: # 1 производная\n",
    "        if h_order == 2:\n",
    "            if type == 'central':\n",
    "                return (f(x + h) - f(x - h)) / (2 * h)\n",
    "            if type == 'backward':\n",
    "                return (3 * f(x) - 4 * f(x - h) + f(x - 2 * h))/(2 * h)\n",
    "            if type == 'forward':\n",
    "                return (-3 * f(x) + 4 * f(x + h) - f(x + 2 * h))/(2 * h)\n",
    "        elif h_order == 4:\n",
    "            if type == 'central':\n",
    "                return (-f(x + 2*h) + 8*f(x + h) - 8*f(x - h) + f(x - 2*h))/(12 * h)\n",
    "    elif order == 2: # 2 производная\n",
    "        if h_order == 2:\n",
    "            if type == 'central':\n",
    "                return (f(x + h) - 2 * f(x) + f(x - h))/(h ** 2)\n",
    "        elif h_order == 4:\n",
    "            if type == 'central':\n",
    "                return (-f(x + 2*h) + 16*f(x + h) - 30*f(x) + 16*f(x - h) - f(x - 2*h)) / (12 * np.power(h, 2))"
   ]
  },
  {
   "cell_type": "code",
   "execution_count": 29,
   "metadata": {
    "pycharm": {
     "is_executing": true
    }
   },
   "outputs": [],
   "source": [
    "@np.vectorize\n",
    "@numba.jit\n",
    "def NumericalDiff(f: Callable[[float], float], x: float, h: float = 0.01, order: float = 1, h_order: int = 2) -> float:\n",
    "    \"\"\"Возращает производную в точке\"\"\"\n",
    "    if order == 1:      # 1 производная\n",
    "        if h_order == 2:\n",
    "            return (f(x + h) - f(x - h)) / (2 * h)\n",
    "    elif order == 2:    # 2 производная\n",
    "        if h_order == 2:\n",
    "            return (f(x + h) - 2 * f(x) + f(x - h)) / np.power(h, 2)\n",
    "        elif h_order == 4:\n",
    "            return (-f(x + 2*h) + 16*f(x + h) - 30*f(x) + 16*f(x - h) - f(x - 2*h)) / (12 * np.power(h, 2))"
   ]
  },
  {
   "cell_type": "code",
   "execution_count": 30,
   "metadata": {
    "pycharm": {
     "is_executing": true
    }
   },
   "outputs": [],
   "source": [
    "f = lambda x: np.exp(-2*x) * np.cos(x)\n",
    "df = lambda x: -np.exp(-2*x) * (np.sin(x) + 2*np.cos(x))\n",
    "d2f = lambda x: np.exp(-2*x) * (4*np.sin(x) + 3*np.cos(x))\n",
    "a = -0.8\n",
    "b = 0.8"
   ]
  },
  {
   "cell_type": "code",
   "execution_count": 31,
   "metadata": {
    "pycharm": {
     "is_executing": true
    }
   },
   "outputs": [],
   "source": [
    "X = np.linspace(a, b, 101)"
   ]
  },
  {
   "cell_type": "code",
   "execution_count": 32,
   "metadata": {
    "pycharm": {
     "is_executing": true
    }
   },
   "outputs": [
    {
     "data": {
      "text/plain": [
       "([<matplotlib.lines.Line2D at 0x7f9f6b9c4588>],\n",
       " [<matplotlib.lines.Line2D at 0x7f9f6b9c45f8>],\n",
       " [<matplotlib.lines.Line2D at 0x7f9f6b9c4358>])"
      ]
     },
     "execution_count": 32,
     "metadata": {},
     "output_type": "execute_result"
    },
    {
     "data": {
      "image/png": "[encoded data removed]",
      "text/plain": [
       "<Figure size 432x288 with 1 Axes>"
      ]
     },
     "metadata": {
      "needs_background": "light"
     },
     "output_type": "display_data"
    }
   ],
   "source": [
    "plt.plot(X, f(X)), plt.plot(X, df(X)), plt.plot(X, d2f(X))"
   ]
  },
  {
   "cell_type": "code",
   "execution_count": 33,
   "metadata": {
    "pycharm": {
     "is_executing": true
    },
    "scrolled": true
   },
   "outputs": [
    {
     "name": "stderr",
     "output_type": "stream",
     "text": [
      "<ipython-input-29-a5f4d80d56bc>:1: NumbaWarning: \n",
      "Compilation is falling back to object mode WITH looplifting enabled because Function \"NumericalDiff\" failed type inference due to: non-precise type pyobject\n",
      "During: typing of argument at <ipython-input-29-a5f4d80d56bc> (5)\n",
      "\n",
      "File \"<ipython-input-29-a5f4d80d56bc>\", line 5:\n",
      "def NumericalDiff(f: Callable[[float], float], x: float, h: float = 0.01, order: float = 1, h_order: int = 2) -> float:\n",
      "    <source elided>\n",
      "    \"\"\"Возращает производную в точке\"\"\"\n",
      "    if order == 1:      # 1 производная\n",
      "    ^\n",
      "\n",
      "  @np.vectorize\n",
      "/Users/alexandrboyko/PycharmProjects/numbermetods/venv/lib/python3.6/site-packages/numba/core/object_mode_passes.py:152: NumbaWarning: Function \"NumericalDiff\" was compiled in object mode without forceobj=True.\n",
      "\n",
      "File \"<ipython-input-29-a5f4d80d56bc>\", line 3:\n",
      "@numba.jit\n",
      "def NumericalDiff(f: Callable[[float], float], x: float, h: float = 0.01, order: float = 1, h_order: int = 2) -> float:\n",
      "^\n",
      "\n",
      "  state.func_ir.loc))\n",
      "/Users/alexandrboyko/PycharmProjects/numbermetods/venv/lib/python3.6/site-packages/numba/core/object_mode_passes.py:162: NumbaDeprecationWarning: \n",
      "Fall-back from the nopython compilation path to the object mode compilation path has been detected, this is deprecated behaviour.\n",
      "\n",
      "For more information visit https://numba.pydata.org/numba-doc/latest/reference/deprecation.html#deprecation-of-object-mode-fall-back-behaviour-when-using-jit\n",
      "\n",
      "File \"<ipython-input-29-a5f4d80d56bc>\", line 3:\n",
      "@numba.jit\n",
      "def NumericalDiff(f: Callable[[float], float], x: float, h: float = 0.01, order: float = 1, h_order: int = 2) -> float:\n",
      "^\n",
      "\n",
      "  state.func_ir.loc))\n",
      "/Users/alexandrboyko/PycharmProjects/numbermetods/venv/lib/python3.6/site-packages/ipykernel_launcher.py:3: RuntimeWarning: invalid value encountered in log\n",
      "  This is separate from the ipykernel package so we can avoid doing imports until\n"
     ]
    },
    {
     "data": {
      "text/plain": [
       "[<matplotlib.lines.Line2D at 0x7f9f6a1d40b8>]"
      ]
     },
     "execution_count": 33,
     "metadata": {},
     "output_type": "execute_result"
    },
    {
     "data": {
      "image/png": "[encoded data removed]",
      "text/plain": [
       "<Figure size 432x288 with 1 Axes>"
      ]
     },
     "metadata": {
      "needs_background": "light"
     },
     "output_type": "display_data"
    }
   ],
   "source": [
    "true_sol1 = df(X)\n",
    "sol1 = NumericalDiff(f, X, h = 0.01, order = 1, h_order = 2)\n",
    "plt.plot(X, np.log((true_sol1 - sol1)))"
   ]
  },
  {
   "cell_type": "code",
   "execution_count": 40,
   "metadata": {
    "pycharm": {
     "is_executing": true
    }
   },
   "outputs": [],
   "source": [
    "hs = {}\n",
    "errs = {}\n",
    "for order in [1, 2]:\n",
    "    if order == 1:\n",
    "        hs[order] = {}\n",
    "        errs[order] = {}\n",
    "        for h_order in [2]:\n",
    "            hs[order][h_order] = []\n",
    "            errs[order][h_order] = []\n",
    "            for h in np.linspace(10e-3, 1, 1001):\n",
    "            # for s in range(-4, 1, 1):\n",
    "            #     h = 10 ** s\n",
    "                X = np.arange(a, b + h, h)\n",
    "                true_sol1 = df(X)\n",
    "                calc_sol = NumericalDiff(f=f, x=X, h=h, order=order, h_order=h_order)\n",
    "                err = np.max(np.abs(calc_sol - true_sol1))# / np.abs(true_sol))\n",
    "#                 err = np.max(np.abs(calc_sol - true_sol))\n",
    "                hs[order][h_order].append(np.log(h))\n",
    "                errs[order][h_order].append(np.log(err))\n",
    "    elif order == 2:\n",
    "        hs[order] = {}\n",
    "        errs[order] = {}\n",
    "        for h_order in [2, 4]:\n",
    "            hs[order][h_order] = []\n",
    "            errs[order][h_order] = []\n",
    "            for h in np.linspace(10e-3, 1, 1001):\n",
    "            # for s in range(-4, 1, 1):\n",
    "            #     h = 10 ** s\n",
    "                X = np.arange(a, b + h, h)\n",
    "                true_sol2 = d2f(X)\n",
    "                calc_sol = NumericalDiff(f=f, x=X, h=h, order=order, h_order=h_order)\n",
    "                err = np.max(np.abs(calc_sol - true_sol2))# / np.abs(true_sol))\n",
    "#                 err = np.max(np.abs(calc_sol - true_sol))\n",
    "                hs[order][h_order].append(np.log(h))\n",
    "                errs[order][h_order].append(np.log(err))"
   ]
  },
  {
   "cell_type": "code",
   "execution_count": 36,
   "metadata": {
    "pycharm": {
     "is_executing": true
    }
   },
   "outputs": [
    {
     "data": {
      "text/plain": [
       "(2.0822661498659674, 2.0347098113006177, 4.000985313263755)"
      ]
     },
     "execution_count": 36,
     "metadata": {},
     "output_type": "execute_result"
    }
   ],
   "source": [
    "(errs[1][2][-1] - errs[1][2][0]) / (hs[1][2][-1] - hs[1][2][0]), \\\n",
    "(errs[2][2][-1] - errs[2][2][0]) / (hs[2][2][-1] - hs[2][2][0]), \\\n",
    "(errs[2][4][-1] - errs[2][4][0]) / (hs[2][4][-1] - hs[2][4][0])"
   ]
  },
  {
   "cell_type": "code",
   "execution_count": 22,
   "metadata": {
    "pycharm": {
     "is_executing": true
    },
    "scrolled": true
   },
   "outputs": [
    {
     "data": {
      "image/png": "[encoded data removed]",
      "text/plain": [
       "<Figure size 432x288 with 1 Axes>"
      ]
     },
     "metadata": {
      "needs_background": "light"
     },
     "output_type": "display_data"
    },
    {
     "data": {
      "text/plain": [
       "<Figure size 72000x72000 with 0 Axes>"
      ]
     },
     "metadata": {},
     "output_type": "display_data"
    }
   ],
   "source": [
    "plt.plot(hs[1][2], errs[1][2], label=\"$f_1'$, O(h$^2$)\")\n",
    "plt.plot(hs[2][2], errs[2][2], label=\"$f_2'$, O(h$^2$)\")\n",
    "plt.plot(hs[2][4], errs[2][4], label=\"$f_2''$, O(h$^4$)\")\n",
    "plt.grid()\n",
    "plt.legend()\n",
    "plt.title('зависимость порядка ошибки от порядка h')\n",
    "plt.xlabel('log(h)')\n",
    "plt.ylabel('log(err)')\n",
    "plt.figure(figsize=(1000, 1000))\n",
    "plt.show()\n"
   ]
  }
 ],
 "metadata": {
  "interpreter": {
   "hash": "9615178fba751b4743b0cc83ec4ad046b4c617358a6c01c0a402618a15f80eef"
  },
  "kernelspec": {
   "display_name": "Python 3",
   "language": "python",
   "name": "python3"
  },
  "language_info": {
   "codemirror_mode": {
    "name": "ipython",
    "version": 3
   },
   "file_extension": ".py",
   "mimetype": "text/x-python",
   "name": "python",
   "nbconvert_exporter": "python",
   "pygments_lexer": "ipython3",
   "version": "3.6.8"
  }
 },
 "nbformat": 4,
 "nbformat_minor": 2
}