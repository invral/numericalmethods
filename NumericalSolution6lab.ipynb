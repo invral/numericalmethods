{
 "cells": [
  {
   "cell_type": "markdown",
   "metadata": {
    "collapsed": true
   },
   "source": [
    "Запишем нашу функцию $y''(x) + p(x)y' + q(x)y = f(x)$"
   ]
  },
  {
   "cell_type": "markdown",
   "metadata": {},
   "source": [
    "<br/>\n",
    "\n",
    "y(0) + y'(0) = 1.3333\n",
    "<br/>\n",
    "\n",
    "y'(1) = 0.9280\n",
    "\n",
    "$y_0 = sin(sh(x)) + \\frac{x}{3}$\n"
   ]
  },
  {
   "cell_type": "markdown",
   "metadata": {},
   "source": [
    "$p(x) = - th(x)$\n",
    "<br/>\n",
    "\n",
    "$q(x) = ch^2(x)$\n",
    "<br/>\n",
    "\n",
    "$ f(x) = \\frac{xch^2(x)-th(x)}{3}$"
   ]
  },
  {
   "cell_type": "markdown",
   "metadata": {},
   "source": [
    "$y''+p(x)y'+q(x)y=f(x)$\n",
    "\n",
    "$A_1y(a)+B_1y'(a)=C_1$\n",
    "    \n",
    "$A_2y(b)+B_2y'(b)=C_2$"
   ]
  },
  {
   "cell_type": "code",
   "execution_count": 10,
   "metadata": {},
   "outputs": [],
   "source": [
    "import numpy as np \n",
    "import matplotlib.pyplot as plt\n",
    "import scipy\n",
    "import math"
   ]
  },
  {
   "cell_type": "code",
   "execution_count": 11,
   "metadata": {},
   "outputs": [],
   "source": [
    "def p(x):\n",
    "    return (-1) * np.tanh(x)\n",
    "\n",
    "def q(x):\n",
    "    return np.cosh(x) ** 2\n",
    "\n",
    "def f(x):\n",
    "    return ((np.cosh(x) ** 2) * x - np.tanh(x)) / 3\n",
    "\n",
    "def secDerriative(x, y, z):\n",
    "    return (-1) * p(x) *  z + (-1) * q(x) * y + f(x) \n",
    "\n",
    "def Solution(x):\n",
    "    return np.sin(np.sinh(x)) + (x / 3)"
   ]
  },
  {
   "cell_type": "code",
   "execution_count": 24,
   "metadata": {},
   "outputs": [],
   "source": [
    "A1 = 1\n",
    "B1 = 1\n",
    "# C1 = 1.3333\n",
    "C1 = 4/3\n",
    "\n",
    "# A2 = 0\n",
    "# B2 = 1\n",
    "# # C2 = 0.9280\n",
    "# C2 = 0.9279709156219082488664262886286158300041352982681432734047960706\n",
    "\n",
    "A2 = 1\n",
    "B2 = 0\n",
    "C2 = 1.2561007221449396\n",
    "\n",
    "x0 = 0\n",
    "xf = 1"
   ]
  },
  {
   "cell_type": "markdown",
   "metadata": {},
   "source": [
    "$\\begin{cases}\n",
    "a_0=0\\\\\n",
    "b_0=-hB_1+h^2A_1\\\\\n",
    "c_0=hB_1\\\\\n",
    "d_0=C_1\\\\\n",
    "a_k=1-\\frac{hp_k}{2}\\\\\n",
    "b_k=-2+h^2q_k\\\\\n",
    "c_k=1+\\frac{hp_k}{2}\\\\\n",
    "d_k=f_k\\\\\n",
    "a_n=hB_2\\\\\n",
    "b_n=-hB_2+h^2A_2\\\\\n",
    "c_n=0\\\\\n",
    "d_n=C_2\n",
    "\\end{cases}$"
   ]
  },
  {
   "cell_type": "code",
   "execution_count": 44,
   "metadata": {},
   "outputs": [],
   "source": [
    "def forward(A, B, C, D, n):\n",
    "    Ai = [-C[0]  / B[0]]\n",
    "    Bi = [D[0] / B[0]]\n",
    "    for i in range(1, n):\n",
    "        Ai.append(- C[i] / (B[i] + A[i] * Ai[i-1]))\n",
    "        Bi.append((D[i] - A[i]*Bi[i-1]) / (B[i] + A[i] * Ai[i-1]))\n",
    "    return Ai, Bi\n",
    "\n",
    "def backward(Ai, Bi, n):\n",
    "    Y = []\n",
    "    Y.append(Bi[n-1])\n",
    "    for i in range(n - 2, -1, -1):\n",
    "        Y.append(Bi[i] + Ai[i] * Y[n - i - 2])\n",
    "    return Y[::-1]\n",
    "\n",
    "\n",
    "def triangeMatr(order, amount):\n",
    "    n = amount + 1\n",
    "    h = 1 / (n - 1)\n",
    "    X = np.linspace(x0, xf, n)\n",
    "    #print(X)\n",
    "\n",
    "    P = [p(i) for i in X]\n",
    "    Q = [q(i) for i in X]\n",
    "    F = [f(i) for i in X]\n",
    "    \n",
    "    if order == 0:\n",
    "        A = [0]\n",
    "        B = [A1-B1/h]\n",
    "        C = [B1/h]\n",
    "        D = [C1]\n",
    "\n",
    "    if order != 0:\n",
    "        A = [0]\n",
    "        B = [-2 + 2*h*A1/B1 - A1*h*h*P[0]/B1 + Q[0]*h*h]\n",
    "        C = [2]\n",
    "        D = [F[0]*h*h - C1*h*h*P[0]/B1 + 2*h*C1/B1]\n",
    "\n",
    "    for i in range(1, n-1):\n",
    "        A.append(1 - h*P[i]/2)\n",
    "        B.append(-2 + h*h*Q[i])\n",
    "        C.append(1 + P[i]/2*h)\n",
    "        D.append(F[i]*h*h)\n",
    "\n",
    "    if order == 0:\n",
    "        A.append(-B2/h)\n",
    "        B.append(A2 + B2 / h)\n",
    "        C.append(0)\n",
    "        D.append(C2)\n",
    "\n",
    "    if order != 0:\n",
    "        A.append(2)\n",
    "        B.append(-2 - 2*h*A2/B2 - P[-1]*h*h*A2/B2 + Q[-1]*h*h)\n",
    "        C.append(0)\n",
    "        D.append(F[-1]*h*h - h*h*P[-1]*C2/B2 - 2*h*C2/B2)\n",
    "            \n",
    "    AA, BB = forward(A, B, C, D, n)\n",
    "    Y = backward(AA, BB, n)\n",
    "    \n",
    "    return Y"
   ]
  },
  {
   "cell_type": "markdown",
   "metadata": {},
   "source": [
    "$y_i=B_i+A_iy_{i+1}$\n",
    "\n",
    "$A_i=-\\frac{c_i}{b_i + a_iA_{i-1}}$\n",
    "\n",
    "$B_i=\\frac{d_i-a_iB_{i-1}}{b_i + a_iA_{i-1}}$\n",
    "\n",
    "$A_0=-\\frac{c_0}{b_0}$<br/> $B_0=\\frac{d_0}{b_0}$\n",
    "\n",
    "$y_{n-1}=B_{n-1}+A_{n-1}y_n$"
   ]
  },
  {
   "cell_type": "code",
   "execution_count": 47,
   "metadata": {
    "scrolled": true
   },
   "outputs": [
    {
     "name": "stdout",
     "output_type": "stream",
     "text": [
      "1.2561007221449396\n",
      "1.2561007221449396\n"
     ]
    }
   ],
   "source": [
    "print(triangeMatr(order = 0, amount = 20)[-1])\n",
    "print(trueY[-1])"
   ]
  },
  {
   "cell_type": "code",
   "execution_count": 36,
   "metadata": {},
   "outputs": [
    {
     "ename": "ZeroDivisionError",
     "evalue": "float division by zero",
     "output_type": "error",
     "traceback": [
      "\u001B[0;31m---------------------------------------------------------------------------\u001B[0m",
      "\u001B[0;31mZeroDivisionError\u001B[0m                         Traceback (most recent call last)",
      "\u001B[0;32m<ipython-input-36-ad1995bba1bd>\u001B[0m in \u001B[0;36m<module>\u001B[0;34m\u001B[0m\n\u001B[1;32m      6\u001B[0m \u001B[0mplt\u001B[0m\u001B[0;34m.\u001B[0m\u001B[0mplot\u001B[0m\u001B[0;34m(\u001B[0m\u001B[0mX\u001B[0m\u001B[0;34m,\u001B[0m \u001B[0morder1\u001B[0m\u001B[0;34m,\u001B[0m \u001B[0mlinestyle\u001B[0m\u001B[0;34m=\u001B[0m\u001B[0;34m\"--\"\u001B[0m\u001B[0;34m,\u001B[0m \u001B[0mcolor\u001B[0m\u001B[0;34m=\u001B[0m\u001B[0;34m\"blue\"\u001B[0m\u001B[0;34m,\u001B[0m \u001B[0mlabel\u001B[0m\u001B[0;34m=\u001B[0m\u001B[0;34m\"order 1\"\u001B[0m\u001B[0;34m)\u001B[0m\u001B[0;34m\u001B[0m\u001B[0;34m\u001B[0m\u001B[0m\n\u001B[1;32m      7\u001B[0m \u001B[0;34m\u001B[0m\u001B[0m\n\u001B[0;32m----> 8\u001B[0;31m \u001B[0morder1\u001B[0m \u001B[0;34m=\u001B[0m \u001B[0mtriangeMatr\u001B[0m\u001B[0;34m(\u001B[0m\u001B[0morder\u001B[0m \u001B[0;34m=\u001B[0m \u001B[0;36m1\u001B[0m\u001B[0;34m,\u001B[0m \u001B[0mamount\u001B[0m \u001B[0;34m=\u001B[0m \u001B[0;36m20\u001B[0m\u001B[0;34m)\u001B[0m\u001B[0;34m\u001B[0m\u001B[0;34m\u001B[0m\u001B[0m\n\u001B[0m\u001B[1;32m      9\u001B[0m \u001B[0mplt\u001B[0m\u001B[0;34m.\u001B[0m\u001B[0mplot\u001B[0m\u001B[0;34m(\u001B[0m\u001B[0mX\u001B[0m\u001B[0;34m,\u001B[0m \u001B[0morder1\u001B[0m\u001B[0;34m,\u001B[0m \u001B[0mlinestyle\u001B[0m\u001B[0;34m=\u001B[0m\u001B[0;34m\"--\"\u001B[0m\u001B[0;34m,\u001B[0m \u001B[0mcolor\u001B[0m\u001B[0;34m=\u001B[0m\u001B[0;34m\"black\"\u001B[0m\u001B[0;34m,\u001B[0m \u001B[0mlabel\u001B[0m\u001B[0;34m=\u001B[0m\u001B[0;34m\"order 2\"\u001B[0m\u001B[0;34m)\u001B[0m\u001B[0;34m\u001B[0m\u001B[0;34m\u001B[0m\u001B[0m\n\u001B[1;32m     10\u001B[0m \u001B[0;34m\u001B[0m\u001B[0m\n",
      "\u001B[0;32m<ipython-input-25-5befd1b2eb88>\u001B[0m in \u001B[0;36mtriangeMatr\u001B[0;34m(order, amount)\u001B[0m\n\u001B[1;32m     51\u001B[0m     \u001B[0;32mif\u001B[0m \u001B[0morder\u001B[0m \u001B[0;34m!=\u001B[0m \u001B[0;36m0\u001B[0m\u001B[0;34m:\u001B[0m\u001B[0;34m\u001B[0m\u001B[0;34m\u001B[0m\u001B[0m\n\u001B[1;32m     52\u001B[0m         \u001B[0mA\u001B[0m\u001B[0;34m.\u001B[0m\u001B[0mappend\u001B[0m\u001B[0;34m(\u001B[0m\u001B[0;36m2\u001B[0m\u001B[0;34m)\u001B[0m\u001B[0;34m\u001B[0m\u001B[0;34m\u001B[0m\u001B[0m\n\u001B[0;32m---> 53\u001B[0;31m         \u001B[0mB\u001B[0m\u001B[0;34m.\u001B[0m\u001B[0mappend\u001B[0m\u001B[0;34m(\u001B[0m\u001B[0;34m-\u001B[0m\u001B[0;36m2\u001B[0m \u001B[0;34m-\u001B[0m \u001B[0;36m2\u001B[0m\u001B[0;34m*\u001B[0m\u001B[0mh\u001B[0m\u001B[0;34m*\u001B[0m\u001B[0mA2\u001B[0m\u001B[0;34m/\u001B[0m\u001B[0mB2\u001B[0m \u001B[0;34m-\u001B[0m \u001B[0mP\u001B[0m\u001B[0;34m[\u001B[0m\u001B[0;34m-\u001B[0m\u001B[0;36m1\u001B[0m\u001B[0;34m]\u001B[0m\u001B[0;34m*\u001B[0m\u001B[0mh\u001B[0m\u001B[0;34m*\u001B[0m\u001B[0mh\u001B[0m\u001B[0;34m*\u001B[0m\u001B[0mA2\u001B[0m\u001B[0;34m/\u001B[0m\u001B[0mB2\u001B[0m \u001B[0;34m+\u001B[0m \u001B[0mQ\u001B[0m\u001B[0;34m[\u001B[0m\u001B[0;34m-\u001B[0m\u001B[0;36m1\u001B[0m\u001B[0;34m]\u001B[0m\u001B[0;34m*\u001B[0m\u001B[0mh\u001B[0m\u001B[0;34m*\u001B[0m\u001B[0mh\u001B[0m\u001B[0;34m)\u001B[0m\u001B[0;34m\u001B[0m\u001B[0;34m\u001B[0m\u001B[0m\n\u001B[0m\u001B[1;32m     54\u001B[0m         \u001B[0mC\u001B[0m\u001B[0;34m.\u001B[0m\u001B[0mappend\u001B[0m\u001B[0;34m(\u001B[0m\u001B[0;36m0\u001B[0m\u001B[0;34m)\u001B[0m\u001B[0;34m\u001B[0m\u001B[0;34m\u001B[0m\u001B[0m\n\u001B[1;32m     55\u001B[0m         \u001B[0mD\u001B[0m\u001B[0;34m.\u001B[0m\u001B[0mappend\u001B[0m\u001B[0;34m(\u001B[0m\u001B[0mF\u001B[0m\u001B[0;34m[\u001B[0m\u001B[0;34m-\u001B[0m\u001B[0;36m1\u001B[0m\u001B[0;34m]\u001B[0m\u001B[0;34m*\u001B[0m\u001B[0mh\u001B[0m\u001B[0;34m*\u001B[0m\u001B[0mh\u001B[0m \u001B[0;34m-\u001B[0m \u001B[0mh\u001B[0m\u001B[0;34m*\u001B[0m\u001B[0mh\u001B[0m\u001B[0;34m*\u001B[0m\u001B[0mP\u001B[0m\u001B[0;34m[\u001B[0m\u001B[0;34m-\u001B[0m\u001B[0;36m1\u001B[0m\u001B[0;34m]\u001B[0m\u001B[0;34m*\u001B[0m\u001B[0mC2\u001B[0m\u001B[0;34m/\u001B[0m\u001B[0mB2\u001B[0m \u001B[0;34m-\u001B[0m \u001B[0;36m2\u001B[0m\u001B[0;34m*\u001B[0m\u001B[0mh\u001B[0m\u001B[0;34m*\u001B[0m\u001B[0mC2\u001B[0m\u001B[0;34m/\u001B[0m\u001B[0mB2\u001B[0m\u001B[0;34m)\u001B[0m\u001B[0;34m\u001B[0m\u001B[0;34m\u001B[0m\u001B[0m\n",
      "\u001B[0;31mZeroDivisionError\u001B[0m: float division by zero"
     ]
    },
    {
     "data": {
      "image/png": "[encoded data removed]",
      "text/plain": [
       "<Figure size 432x288 with 1 Axes>"
      ]
     },
     "metadata": {
      "needs_background": "light"
     },
     "output_type": "display_data"
    }
   ],
   "source": [
    "X = [x0 + i / 20 for i in range(21)]\n",
    "Solutions = [Solution(i) for i in X]\n",
    "plt.plot(X, Solutions, color=\"red\", label=\"Real solution\")\n",
    "\n",
    "order1 = triangeMatr(order = 0, amount = 20)\n",
    "plt.plot(X, order1, linestyle=\"--\", color=\"blue\", label=\"order 1\")\n",
    "\n",
    "order1 = triangeMatr(order = 1, amount = 20)\n",
    "plt.plot(X, order1, linestyle=\"--\", color=\"black\", label=\"order 2\")\n",
    "\n",
    "plt.legend(loc=\"lower right\")\n",
    "plt.grid(True)"
   ]
  },
  {
   "cell_type": "code",
   "execution_count": 37,
   "metadata": {},
   "outputs": [],
   "source": [
    "def logEr(order):\n",
    "    hlog = []\n",
    "    ylog = []\n",
    "\n",
    "    for n in range(20,300,50):\n",
    "        h = 1/n\n",
    "        y = triangeMatr(order, n)\n",
    "        X = [x0 + i / n for i in range(n+1)]\n",
    "        sol = [Solution(x) for x in X]\n",
    "        deltas = [abs(y[i]-sol[i]) for i in range(n)]\n",
    "        delta = max(deltas)\n",
    "        hlog.append(np.log(h))\n",
    "        ylog.append(np.log(delta))\n",
    "    return hlog, ylog"
   ]
  },
  {
   "cell_type": "code",
   "execution_count": 38,
   "metadata": {},
   "outputs": [
    {
     "data": {
      "image/png": "[encoded data removed]",
      "text/plain": [
       "<Figure size 432x288 with 1 Axes>"
      ]
     },
     "metadata": {
      "needs_background": "light"
     },
     "output_type": "display_data"
    }
   ],
   "source": [
    "hlog0, ylog0 = logEr(0)\n",
    "plt.plot(hlog0, ylog0, linestyle=\"-\", color=\"black\", label=\"order 1\")\n",
    "\n",
    "plt.legend(loc=\"lower right\")\n",
    "plt.grid(True)"
   ]
  },
  {
   "cell_type": "code",
   "execution_count": 39,
   "metadata": {
    "scrolled": true
   },
   "outputs": [
    {
     "ename": "ZeroDivisionError",
     "evalue": "float division by zero",
     "output_type": "error",
     "traceback": [
      "\u001B[0;31m---------------------------------------------------------------------------\u001B[0m",
      "\u001B[0;31mZeroDivisionError\u001B[0m                         Traceback (most recent call last)",
      "\u001B[0;32m<ipython-input-39-1af846e6b4e5>\u001B[0m in \u001B[0;36m<module>\u001B[0;34m\u001B[0m\n\u001B[0;32m----> 1\u001B[0;31m \u001B[0mhlog1\u001B[0m\u001B[0;34m,\u001B[0m \u001B[0mylog1\u001B[0m \u001B[0;34m=\u001B[0m \u001B[0mlogEr\u001B[0m\u001B[0;34m(\u001B[0m\u001B[0;36m1\u001B[0m\u001B[0;34m)\u001B[0m\u001B[0;34m\u001B[0m\u001B[0;34m\u001B[0m\u001B[0m\n\u001B[0m\u001B[1;32m      2\u001B[0m \u001B[0mplt\u001B[0m\u001B[0;34m.\u001B[0m\u001B[0mplot\u001B[0m\u001B[0;34m(\u001B[0m\u001B[0mhlog1\u001B[0m\u001B[0;34m,\u001B[0m \u001B[0mylog1\u001B[0m\u001B[0;34m,\u001B[0m \u001B[0mlinestyle\u001B[0m\u001B[0;34m=\u001B[0m\u001B[0;34m\"-\"\u001B[0m\u001B[0;34m,\u001B[0m \u001B[0mcolor\u001B[0m\u001B[0;34m=\u001B[0m\u001B[0;34m\"black\"\u001B[0m\u001B[0;34m,\u001B[0m \u001B[0mlabel\u001B[0m\u001B[0;34m=\u001B[0m\u001B[0;34m\"order 2\"\u001B[0m\u001B[0;34m)\u001B[0m\u001B[0;34m\u001B[0m\u001B[0;34m\u001B[0m\u001B[0m\n\u001B[1;32m      3\u001B[0m \u001B[0;34m\u001B[0m\u001B[0m\n\u001B[1;32m      4\u001B[0m \u001B[0mplt\u001B[0m\u001B[0;34m.\u001B[0m\u001B[0mlegend\u001B[0m\u001B[0;34m(\u001B[0m\u001B[0mloc\u001B[0m\u001B[0;34m=\u001B[0m\u001B[0;34m\"lower right\"\u001B[0m\u001B[0;34m)\u001B[0m\u001B[0;34m\u001B[0m\u001B[0;34m\u001B[0m\u001B[0m\n\u001B[1;32m      5\u001B[0m \u001B[0mplt\u001B[0m\u001B[0;34m.\u001B[0m\u001B[0mgrid\u001B[0m\u001B[0;34m(\u001B[0m\u001B[0;32mTrue\u001B[0m\u001B[0;34m)\u001B[0m\u001B[0;34m\u001B[0m\u001B[0;34m\u001B[0m\u001B[0m\n",
      "\u001B[0;32m<ipython-input-37-3de0b09d7c31>\u001B[0m in \u001B[0;36mlogEr\u001B[0;34m(order)\u001B[0m\n\u001B[1;32m      5\u001B[0m     \u001B[0;32mfor\u001B[0m \u001B[0mn\u001B[0m \u001B[0;32min\u001B[0m \u001B[0mrange\u001B[0m\u001B[0;34m(\u001B[0m\u001B[0;36m20\u001B[0m\u001B[0;34m,\u001B[0m\u001B[0;36m300\u001B[0m\u001B[0;34m,\u001B[0m\u001B[0;36m50\u001B[0m\u001B[0;34m)\u001B[0m\u001B[0;34m:\u001B[0m\u001B[0;34m\u001B[0m\u001B[0;34m\u001B[0m\u001B[0m\n\u001B[1;32m      6\u001B[0m         \u001B[0mh\u001B[0m \u001B[0;34m=\u001B[0m \u001B[0;36m1\u001B[0m\u001B[0;34m/\u001B[0m\u001B[0mn\u001B[0m\u001B[0;34m\u001B[0m\u001B[0;34m\u001B[0m\u001B[0m\n\u001B[0;32m----> 7\u001B[0;31m         \u001B[0my\u001B[0m \u001B[0;34m=\u001B[0m \u001B[0mtriangeMatr\u001B[0m\u001B[0;34m(\u001B[0m\u001B[0morder\u001B[0m\u001B[0;34m,\u001B[0m \u001B[0mn\u001B[0m\u001B[0;34m)\u001B[0m\u001B[0;34m\u001B[0m\u001B[0;34m\u001B[0m\u001B[0m\n\u001B[0m\u001B[1;32m      8\u001B[0m         \u001B[0mX\u001B[0m \u001B[0;34m=\u001B[0m \u001B[0;34m[\u001B[0m\u001B[0mx0\u001B[0m \u001B[0;34m+\u001B[0m \u001B[0mi\u001B[0m \u001B[0;34m/\u001B[0m \u001B[0mn\u001B[0m \u001B[0;32mfor\u001B[0m \u001B[0mi\u001B[0m \u001B[0;32min\u001B[0m \u001B[0mrange\u001B[0m\u001B[0;34m(\u001B[0m\u001B[0mn\u001B[0m\u001B[0;34m+\u001B[0m\u001B[0;36m1\u001B[0m\u001B[0;34m)\u001B[0m\u001B[0;34m]\u001B[0m\u001B[0;34m\u001B[0m\u001B[0;34m\u001B[0m\u001B[0m\n\u001B[1;32m      9\u001B[0m         \u001B[0msol\u001B[0m \u001B[0;34m=\u001B[0m \u001B[0;34m[\u001B[0m\u001B[0mSolution\u001B[0m\u001B[0;34m(\u001B[0m\u001B[0mx\u001B[0m\u001B[0;34m)\u001B[0m \u001B[0;32mfor\u001B[0m \u001B[0mx\u001B[0m \u001B[0;32min\u001B[0m \u001B[0mX\u001B[0m\u001B[0;34m]\u001B[0m\u001B[0;34m\u001B[0m\u001B[0;34m\u001B[0m\u001B[0m\n",
      "\u001B[0;32m<ipython-input-25-5befd1b2eb88>\u001B[0m in \u001B[0;36mtriangeMatr\u001B[0;34m(order, amount)\u001B[0m\n\u001B[1;32m     51\u001B[0m     \u001B[0;32mif\u001B[0m \u001B[0morder\u001B[0m \u001B[0;34m!=\u001B[0m \u001B[0;36m0\u001B[0m\u001B[0;34m:\u001B[0m\u001B[0;34m\u001B[0m\u001B[0;34m\u001B[0m\u001B[0m\n\u001B[1;32m     52\u001B[0m         \u001B[0mA\u001B[0m\u001B[0;34m.\u001B[0m\u001B[0mappend\u001B[0m\u001B[0;34m(\u001B[0m\u001B[0;36m2\u001B[0m\u001B[0;34m)\u001B[0m\u001B[0;34m\u001B[0m\u001B[0;34m\u001B[0m\u001B[0m\n\u001B[0;32m---> 53\u001B[0;31m         \u001B[0mB\u001B[0m\u001B[0;34m.\u001B[0m\u001B[0mappend\u001B[0m\u001B[0;34m(\u001B[0m\u001B[0;34m-\u001B[0m\u001B[0;36m2\u001B[0m \u001B[0;34m-\u001B[0m \u001B[0;36m2\u001B[0m\u001B[0;34m*\u001B[0m\u001B[0mh\u001B[0m\u001B[0;34m*\u001B[0m\u001B[0mA2\u001B[0m\u001B[0;34m/\u001B[0m\u001B[0mB2\u001B[0m \u001B[0;34m-\u001B[0m \u001B[0mP\u001B[0m\u001B[0;34m[\u001B[0m\u001B[0;34m-\u001B[0m\u001B[0;36m1\u001B[0m\u001B[0;34m]\u001B[0m\u001B[0;34m*\u001B[0m\u001B[0mh\u001B[0m\u001B[0;34m*\u001B[0m\u001B[0mh\u001B[0m\u001B[0;34m*\u001B[0m\u001B[0mA2\u001B[0m\u001B[0;34m/\u001B[0m\u001B[0mB2\u001B[0m \u001B[0;34m+\u001B[0m \u001B[0mQ\u001B[0m\u001B[0;34m[\u001B[0m\u001B[0;34m-\u001B[0m\u001B[0;36m1\u001B[0m\u001B[0;34m]\u001B[0m\u001B[0;34m*\u001B[0m\u001B[0mh\u001B[0m\u001B[0;34m*\u001B[0m\u001B[0mh\u001B[0m\u001B[0;34m)\u001B[0m\u001B[0;34m\u001B[0m\u001B[0;34m\u001B[0m\u001B[0m\n\u001B[0m\u001B[1;32m     54\u001B[0m         \u001B[0mC\u001B[0m\u001B[0;34m.\u001B[0m\u001B[0mappend\u001B[0m\u001B[0;34m(\u001B[0m\u001B[0;36m0\u001B[0m\u001B[0;34m)\u001B[0m\u001B[0;34m\u001B[0m\u001B[0;34m\u001B[0m\u001B[0m\n\u001B[1;32m     55\u001B[0m         \u001B[0mD\u001B[0m\u001B[0;34m.\u001B[0m\u001B[0mappend\u001B[0m\u001B[0;34m(\u001B[0m\u001B[0mF\u001B[0m\u001B[0;34m[\u001B[0m\u001B[0;34m-\u001B[0m\u001B[0;36m1\u001B[0m\u001B[0;34m]\u001B[0m\u001B[0;34m*\u001B[0m\u001B[0mh\u001B[0m\u001B[0;34m*\u001B[0m\u001B[0mh\u001B[0m \u001B[0;34m-\u001B[0m \u001B[0mh\u001B[0m\u001B[0;34m*\u001B[0m\u001B[0mh\u001B[0m\u001B[0;34m*\u001B[0m\u001B[0mP\u001B[0m\u001B[0;34m[\u001B[0m\u001B[0;34m-\u001B[0m\u001B[0;36m1\u001B[0m\u001B[0;34m]\u001B[0m\u001B[0;34m*\u001B[0m\u001B[0mC2\u001B[0m\u001B[0;34m/\u001B[0m\u001B[0mB2\u001B[0m \u001B[0;34m-\u001B[0m \u001B[0;36m2\u001B[0m\u001B[0;34m*\u001B[0m\u001B[0mh\u001B[0m\u001B[0;34m*\u001B[0m\u001B[0mC2\u001B[0m\u001B[0;34m/\u001B[0m\u001B[0mB2\u001B[0m\u001B[0;34m)\u001B[0m\u001B[0;34m\u001B[0m\u001B[0;34m\u001B[0m\u001B[0m\n",
      "\u001B[0;31mZeroDivisionError\u001B[0m: float division by zero"
     ]
    }
   ],
   "source": [
    "hlog1, ylog1 = logEr(1)\n",
    "plt.plot(hlog1, ylog1, linestyle=\"-\", color=\"black\", label=\"order 2\")\n",
    "\n",
    "plt.legend(loc=\"lower right\")\n",
    "plt.grid(True)"
   ]
  },
  {
   "cell_type": "code",
   "execution_count": 33,
   "metadata": {},
   "outputs": [
    {
     "data": {
      "text/plain": [
       "1.2561007221449396"
      ]
     },
     "execution_count": 33,
     "metadata": {},
     "output_type": "execute_result"
    }
   ],
   "source": [
    "Solution(1)"
   ]
  },
  {
   "cell_type": "code",
   "execution_count": null,
   "metadata": {},
   "outputs": [],
   "source": []
  }
 ],
 "metadata": {
  "kernelspec": {
   "display_name": "Python 3",
   "language": "python",
   "name": "python3"
  },
  "language_info": {
   "codemirror_mode": {
    "name": "ipython",
    "version": 3
   },
   "file_extension": ".py",
   "mimetype": "text/x-python",
   "name": "python",
   "nbconvert_exporter": "python",
   "pygments_lexer": "ipython3",
   "version": "3.6.8"
  }
 },
 "nbformat": 4,
 "nbformat_minor": 1
}